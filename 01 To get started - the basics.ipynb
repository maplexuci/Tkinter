{
 "cells": [
  {
   "cell_type": "markdown",
   "metadata": {},
   "source": [
    "# Create the simplest graphical user interfaces"
   ]
  },
  {
   "cell_type": "code",
   "execution_count": 1,
   "metadata": {
    "ExecuteTime": {
     "end_time": "2021-01-12T04:36:27.428839Z",
     "start_time": "2021-01-12T04:35:56.038491Z"
    }
   },
   "outputs": [],
   "source": [
    "from tkinter import *\n",
    "\n",
    "# Create the main window\n",
    "root = Tk()\n",
    "\n",
    "# Create a Label widget\n",
    "myLable1 = Label(root, text=\"Hello World!\")\n",
    "\n",
    "# Simple method to put the widget onto the main window, as the size of the widget for the window.\n",
    "# Use .pack() method, the position of the widget is dynamic when you resize the window.\n",
    "myLable1.pack()\n",
    "\n",
    "# Create the main loop\n",
    "root.mainloop()"
   ]
  },
  {
   "cell_type": "markdown",
   "metadata": {},
   "source": [
    "# Positioning with Tkinter's Grid system"
   ]
  },
  {
   "cell_type": "code",
   "execution_count": 4,
   "metadata": {
    "ExecuteTime": {
     "end_time": "2021-01-12T04:53:06.623087Z",
     "start_time": "2021-01-12T04:52:36.051614Z"
    }
   },
   "outputs": [],
   "source": [
    "from tkinter import *\n",
    "\n",
    "# Create the main window\n",
    "root = Tk()\n",
    "\n",
    "# Create a Label widget\n",
    "myLable1 = Label(root, text=\"Hello World!\")\n",
    "myLable2 = Label(root, text=\"This is the second label\")\n",
    "\n",
    "#  Use .grid() method, the position of the widget is static when you resize the window.\n",
    "myLable1.grid(row=0, column=0)\n",
    "myLable2.grid(row=1, column=1)\n",
    "\n",
    "# Create the main loop\n",
    "root.mainloop()"
   ]
  },
  {
   "cell_type": "markdown",
   "metadata": {},
   "source": [
    "# Creating buttons"
   ]
  },
  {
   "cell_type": "code",
   "execution_count": 9,
   "metadata": {
    "ExecuteTime": {
     "end_time": "2021-01-12T05:04:21.994017Z",
     "start_time": "2021-01-12T05:04:17.168190Z"
    }
   },
   "outputs": [],
   "source": [
    "from tkinter import *\n",
    "\n",
    "# Create the main window\n",
    "root = Tk()\n",
    "\n",
    "# Create active and disabled buttons\n",
    "myButton1 = Button(root, text=\"Click Me!\")\n",
    "myButton2 = Button(root, text=\"Click Me!\", state=DISABLED)\n",
    "\n",
    "# Change button sizes\n",
    "myButton3 = Button(root, text=\"Click Me!\", padx=50, pady=30)\n",
    "\n",
    "myButton1.pack()\n",
    "myButton2.pack()\n",
    "myButton3.pack()\n",
    "\n",
    "# Create the main loop\n",
    "root.mainloop()"
   ]
  },
  {
   "cell_type": "markdown",
   "metadata": {},
   "source": [
    "**Let buttons response to click:**"
   ]
  },
  {
   "cell_type": "code",
   "execution_count": 14,
   "metadata": {
    "ExecuteTime": {
     "end_time": "2021-01-12T05:18:12.942731Z",
     "start_time": "2021-01-12T05:18:09.759142Z"
    }
   },
   "outputs": [],
   "source": [
    "from tkinter import *\n",
    "\n",
    "root = Tk()\n",
    "\n",
    "# Make a function to define an action, here is to create a lable and put it on the screen.\n",
    "def myClick():\n",
    "    myLabel = Label(root, text=\"Look! I clicked a Button!\")\n",
    "    myLabel.pack()\n",
    "    \n",
    "# Create active and disabled buttons\n",
    "# Calls 'myClick' function defined above to respond to Button Click. Note that no () is needed here for the function call. \n",
    "myButton1 = Button(root, text=\"Click Me!\", command=myClick, fg=\"yellow\", bg=\"red\")\n",
    "myButton2 = Button(root, text=\"Click Me!\", state=DISABLED)\n",
    "\n",
    "# Change button sizes\n",
    "myButton3 = Button(root, text=\"Click Me!\", padx=50, pady=30)\n",
    "\n",
    "myButton1.pack()\n",
    "myButton2.pack()\n",
    "myButton3.pack()\n",
    "\n",
    "# Create the main loop\n",
    "root.mainloop()"
   ]
  },
  {
   "cell_type": "markdown",
   "metadata": {},
   "source": [
    "# Creating input fields"
   ]
  },
  {
   "cell_type": "code",
   "execution_count": 19,
   "metadata": {
    "ExecuteTime": {
     "end_time": "2021-01-12T05:29:54.504572Z",
     "start_time": "2021-01-12T05:29:28.916087Z"
    }
   },
   "outputs": [],
   "source": [
    "from tkinter import *\n",
    "\n",
    "root = Tk()\n",
    "\n",
    "# Create a Entry widget, play around with the attributes.\n",
    "e = Entry(root, width=100, bg=\"white\", borderwidth=5)\n",
    "e.pack()\n",
    "\n",
    "# Add default text in the input box.\n",
    "e.insert(0, \"Enter Your Name: \")\n",
    "\n",
    "# Change the function to get the content in the input box.\n",
    "def myClick():\n",
    "    myLabel = Label(root, text=e.get())\n",
    "    myLabel.pack()\n",
    "    \n",
    "myButton1 = Button(root, text=\"Click Me!\", command=myClick, fg=\"yellow\", bg=\"red\")\n",
    "myButton1.pack()\n",
    "\n",
    "root.mainloop()"
   ]
  },
  {
   "cell_type": "code",
   "execution_count": null,
   "metadata": {},
   "outputs": [],
   "source": []
  }
 ],
 "metadata": {
  "kernelspec": {
   "display_name": "Python 3",
   "language": "python",
   "name": "python3"
  },
  "language_info": {
   "codemirror_mode": {
    "name": "ipython",
    "version": 3
   },
   "file_extension": ".py",
   "mimetype": "text/x-python",
   "name": "python",
   "nbconvert_exporter": "python",
   "pygments_lexer": "ipython3",
   "version": "3.7.7"
  },
  "toc": {
   "base_numbering": 1,
   "nav_menu": {},
   "number_sections": true,
   "sideBar": true,
   "skip_h1_title": false,
   "title_cell": "Table of Contents",
   "title_sidebar": "Contents",
   "toc_cell": false,
   "toc_position": {},
   "toc_section_display": true,
   "toc_window_display": false
  },
  "varInspector": {
   "cols": {
    "lenName": 16,
    "lenType": 16,
    "lenVar": 40
   },
   "kernels_config": {
    "python": {
     "delete_cmd_postfix": "",
     "delete_cmd_prefix": "del ",
     "library": "var_list.py",
     "varRefreshCmd": "print(var_dic_list())"
    },
    "r": {
     "delete_cmd_postfix": ") ",
     "delete_cmd_prefix": "rm(",
     "library": "var_list.r",
     "varRefreshCmd": "cat(var_dic_list()) "
    }
   },
   "types_to_exclude": [
    "module",
    "function",
    "builtin_function_or_method",
    "instance",
    "_Feature"
   ],
   "window_display": false
  }
 },
 "nbformat": 4,
 "nbformat_minor": 4
}
